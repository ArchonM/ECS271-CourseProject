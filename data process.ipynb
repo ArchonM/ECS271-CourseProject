{
 "cells": [
  {
   "cell_type": "code",
   "execution_count": 1,
   "outputs": [],
   "source": [
    "import pandas as pd\n",
    "import numpy as np\n",
    "#train_false1 = pd.read_pickle('train_false_30k_1/train_false_30k_new_pairs.pkl')\n",
    "#train_false2 = pd.read_pickle('train_false_30k_2/train_false_30k_2_new_pairs.pkl')\n",
    "#train_false = pd.concat([train_false1,train_false2])\n",
    "#train_false['id1'] = train_false.ids.apply(lambda x: x[0])\n",
    "#train_false['id2'] = train_false.ids.apply(lambda x: x[1])\n",
    "#train_false = train_false.drop_duplicates(subset=['id1','id2'])"
   ],
   "metadata": {
    "collapsed": false
   }
  },
  {
   "cell_type": "code",
   "execution_count": 5,
   "outputs": [],
   "source": [
    "train_false1 = pd.read_pickle('train_false_30k_1/train_false_30k_new_pairs_vec.pkl')\n",
    "train_true1 = pd.read_pickle('train_true_30k_1/train_true_30k_new_pairs_vec.pkl')\n",
    "train = pd.concat([train_false1,train_true1])"
   ],
   "metadata": {
    "collapsed": false
   }
  },
  {
   "cell_type": "code",
   "execution_count": 8,
   "outputs": [],
   "source": [
    "def getX(data):\n",
    "    vec = []\n",
    "    for i in range(data.shape[0]):\n",
    "        vec.append(np.array(data.feature_vec.iloc[i]))\n",
    "    return np.array(vec)"
   ],
   "metadata": {
    "collapsed": false
   }
  },
  {
   "cell_type": "code",
   "execution_count": 9,
   "outputs": [
    {
     "data": {
      "text/plain": "(58040, 2, 100, 100)"
     },
     "execution_count": 9,
     "metadata": {},
     "output_type": "execute_result"
    }
   ],
   "source": [
    "X_train = getX(train)\n",
    "X_train.shape"
   ],
   "metadata": {
    "collapsed": false
   }
  },
  {
   "cell_type": "code",
   "execution_count": 6,
   "outputs": [
    {
     "data": {
      "text/plain": "(58040,)"
     },
     "execution_count": 6,
     "metadata": {},
     "output_type": "execute_result"
    }
   ],
   "source": [
    "y_train = np.array(train.labels)\n",
    "y_train.shape"
   ],
   "metadata": {
    "collapsed": false
   }
  },
  {
   "cell_type": "code",
   "execution_count": 16,
   "outputs": [],
   "source": [
    "import pickle\n",
    "\n",
    "with open('y_train.pkl','wb') as f:\n",
    "    pickle.dump(y_train, f)\n",
    "with open('X_train.pkl','wb') as f:\n",
    "    pickle.dump(X_train, f)"
   ],
   "metadata": {
    "collapsed": false
   }
  }
 ],
 "metadata": {
  "kernelspec": {
   "display_name": "Python 3",
   "language": "python",
   "name": "python3"
  },
  "language_info": {
   "codemirror_mode": {
    "name": "ipython",
    "version": 2
   },
   "file_extension": ".py",
   "mimetype": "text/x-python",
   "name": "python",
   "nbconvert_exporter": "python",
   "pygments_lexer": "ipython2",
   "version": "2.7.6"
  }
 },
 "nbformat": 4,
 "nbformat_minor": 0
}
